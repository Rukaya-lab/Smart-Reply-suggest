{
  "cells": [
    {
      "cell_type": "markdown",
      "metadata": {
        "id": "view-in-github",
        "colab_type": "text"
      },
      "source": [
        "<a href=\"https://colab.research.google.com/github/Rukaya-lab/Smart-Reply-suggest/blob/main/Smart_Reply_3.ipynb\" target=\"_parent\"><img src=\"https://colab.research.google.com/assets/colab-badge.svg\" alt=\"Open In Colab\"/></a>"
      ]
    },
    {
      "cell_type": "code",
      "execution_count": null,
      "metadata": {
        "id": "vE_rKjp61iEK"
      },
      "outputs": [],
      "source": [
        "!pip install hdbscan"
      ]
    },
    {
      "cell_type": "code",
      "execution_count": null,
      "metadata": {
        "id": "9A1BGw8UmIuu"
      },
      "outputs": [],
      "source": [
        "import pickle\n",
        "import numpy as np\n",
        "import tensorflow as tf\n",
        "from sklearn.preprocessing import OneHotEncoder\n",
        "import random\n",
        "from sklearn.metrics import confusion_matrix\n",
        "from sklearn.metrics import plot_confusion_matrix\n",
        "import seaborn as sns\n",
        "import pandas as pd\n",
        "import hdbscan"
      ]
    },
    {
      "cell_type": "code",
      "execution_count": null,
      "metadata": {
        "colab": {
          "base_uri": "https://localhost:8080/"
        },
        "id": "hqXH6IFs74HW",
        "outputId": "e761a58a-594e-4318-d8e4-789cfb7618ad"
      },
      "outputs": [
        {
          "output_type": "stream",
          "name": "stdout",
          "text": [
            "Number of replicas: 1\n",
            "2.8.0\n"
          ]
        }
      ],
      "source": [
        "\n",
        "try:\n",
        "    tpu = tf.distribute.cluster_resolver.TPUClusterResolver()\n",
        "    print('Device:', tpu.master())\n",
        "    tf.config.experimental_connect_to_cluster(tpu)\n",
        "    tf.tpu.experimental.initialize_tpu_system(tpu)\n",
        "    strategy = tf.distribute.experimental.TPUStrategy(tpu)\n",
        "except:\n",
        "    strategy = tf.distribute.get_strategy()\n",
        "print('Number of replicas:', strategy.num_replicas_in_sync)\n",
        "\n",
        "AUTOTUNE = tf.data.experimental.AUTOTUNE\n",
        "\n",
        "print(tf.__version__)"
      ]
    },
    {
      "cell_type": "code",
      "execution_count": null,
      "metadata": {
        "id": "OKRTVeyTwCEw"
      },
      "outputs": [],
      "source": [
        "\n",
        "with open('/content/input_texts.pickle', 'rb') as handle:\n",
        "    input_texts = pickle.load(handle)\n",
        "\n",
        "with open('/content/target_texts.pickle', 'rb') as handle:\n",
        "    output_texts = pickle.load(handle)\n",
        "\n",
        "with open('/content/target_dbscan_002.pickle', 'rb') as handle:\n",
        "    dbscan002 = pickle.load(handle)\n",
        "\n",
        "with open('/content/target_dbscan_006.pickle', 'rb') as handle:\n",
        "    dbscan006 = pickle.load(handle)\n",
        "\n",
        "with open('/content/target_hdbscan_auto.pickle', 'rb') as handle:\n",
        "    hdbscan_auto = pickle.load(handle)"
      ]
    },
    {
      "cell_type": "code",
      "execution_count": null,
      "metadata": {
        "colab": {
          "base_uri": "https://localhost:8080/"
        },
        "id": "hCQB0UjIzvEg",
        "outputId": "fa332a74-f74b-4ded-9f70-5dc6f8e104c3"
      },
      "outputs": [
        {
          "output_type": "stream",
          "name": "stdout",
          "text": [
            "21921\n",
            "21921\n"
          ]
        }
      ],
      "source": [
        "print(len(input_texts))\n",
        "print(len(dbscan006.labels_))"
      ]
    },
    {
      "cell_type": "code",
      "execution_count": null,
      "metadata": {
        "id": "TEb6ji3A0xr6"
      },
      "outputs": [],
      "source": [
        "# fitting tokenizer on all short messages\n",
        "tokenizer = tf.keras.preprocessing.text.Tokenizer()\n",
        "tokenizer.fit_on_texts(input_texts)\n",
        "total_words = len(tokenizer.word_index) + 1"
      ]
    },
    {
      "cell_type": "code",
      "execution_count": null,
      "metadata": {
        "colab": {
          "base_uri": "https://localhost:8080/"
        },
        "id": "7bZGwt_c86QP",
        "outputId": "913ee8a3-74b2-48a8-fe70-212847f80454"
      },
      "outputs": [
        {
          "output_type": "execute_result",
          "data": {
            "text/plain": [
              "13946"
            ]
          },
          "metadata": {},
          "execution_count": 8
        }
      ],
      "source": [
        "total_words"
      ]
    },
    {
      "cell_type": "code",
      "execution_count": null,
      "metadata": {
        "id": "lSkGJDBi6iyv"
      },
      "outputs": [],
      "source": [
        "with open('tokenizer.pickle', 'wb') as handle:\n",
        "    pickle.dump(tokenizer, handle, protocol=pickle.HIGHEST_PROTOCOL)"
      ]
    },
    {
      "cell_type": "code",
      "execution_count": null,
      "metadata": {
        "id": "DuF8oSOz6nRR"
      },
      "outputs": [],
      "source": [
        "input_tokens = tokenizer.texts_to_sequences(input_texts)"
      ]
    },
    {
      "cell_type": "code",
      "execution_count": null,
      "metadata": {
        "id": "KMbDa6rl6u-H"
      },
      "outputs": [],
      "source": [
        "def generate_padded_sequences(input_sequences):\n",
        "    max_sequence_len = max([len(x) for x in input_sequences])\n",
        "    input_sequences = np.array(tf.keras.preprocessing.sequence.pad_sequences(input_sequences, maxlen=max_sequence_len, padding='pre'))\n",
        "\n",
        "    predictors = input_sequences\n",
        "\n",
        "    return predictors, max_sequence_len\n",
        "\n",
        "predictors, max_sequence_len = generate_padded_sequences(input_tokens)"
      ]
    },
    {
      "cell_type": "code",
      "source": [
        "max_sequence_len"
      ],
      "metadata": {
        "colab": {
          "base_uri": "https://localhost:8080/"
        },
        "id": "m4DEOxCOjNR1",
        "outputId": "684c00dd-159d-4c40-a804-bb433b1d7fd6"
      },
      "execution_count": null,
      "outputs": [
        {
          "output_type": "execute_result",
          "data": {
            "text/plain": [
              "49"
            ]
          },
          "metadata": {},
          "execution_count": 12
        }
      ]
    },
    {
      "cell_type": "code",
      "execution_count": null,
      "metadata": {
        "colab": {
          "base_uri": "https://localhost:8080/"
        },
        "id": "p0OrkoPF65m1",
        "outputId": "4cc7c3dd-20ea-4234-8578-cf4dbad07a89"
      },
      "outputs": [
        {
          "output_type": "stream",
          "name": "stdout",
          "text": [
            "[1271 1271 1271    0 1271 1271 1271 1271 1271    0]\n"
          ]
        }
      ],
      "source": [
        "\n",
        "labels = np.array(dbscan006.labels_, copy=True) #sceond\n",
        "labels[labels == -1] = len(set(dbscan006.labels_)) - 1 #first change point\n",
        "print(labels[:10])"
      ]
    },
    {
      "cell_type": "code",
      "execution_count": null,
      "metadata": {
        "colab": {
          "base_uri": "https://localhost:8080/"
        },
        "id": "h4OahIvI7G1y",
        "outputId": "6483f685-a28f-4959-bec7-473b42816aef"
      },
      "outputs": [
        {
          "output_type": "execute_result",
          "data": {
            "text/plain": [
              "(21921, 1272)"
            ]
          },
          "metadata": {},
          "execution_count": 48
        }
      ],
      "source": [
        "encoder_labels = OneHotEncoder().fit(labels.reshape(-1, 1))\n",
        "one_hot_labels = encoder_labels.transform(labels.reshape(-1, 1))\n",
        "one_hot_labels.shape"
      ]
    },
    {
      "cell_type": "code",
      "execution_count": null,
      "metadata": {
        "id": "gdICw_LF7U3-"
      },
      "outputs": [],
      "source": [
        "with open('encoder_labelsdbscan006.pickle', 'wb') as handle:\n",
        "    pickle.dump(encoder_labels, handle, protocol=pickle.HIGHEST_PROTOCOL)"
      ]
    },
    {
      "cell_type": "code",
      "execution_count": null,
      "metadata": {
        "colab": {
          "base_uri": "https://localhost:8080/"
        },
        "id": "N2nLGyDv7eEq",
        "outputId": "ec940bba-3918-43f2-c36d-376ac56e9c11"
      },
      "outputs": [
        {
          "output_type": "stream",
          "name": "stdout",
          "text": [
            "Model: \"sequential_2\"\n",
            "_________________________________________________________________\n",
            " Layer (type)                Output Shape              Param #   \n",
            "=================================================================\n",
            " embedding_2 (Embedding)     (None, 49, 512)           7140352   \n",
            "                                                                 \n",
            " lstm_2 (LSTM)               (None, 512)               2099200   \n",
            "                                                                 \n",
            " dropout_2 (Dropout)         (None, 512)               0         \n",
            "                                                                 \n",
            " dense_2 (Dense)             (None, 1272)              652536    \n",
            "                                                                 \n",
            "=================================================================\n",
            "Total params: 9,892,088\n",
            "Trainable params: 9,892,088\n",
            "Non-trainable params: 0\n",
            "_________________________________________________________________\n"
          ]
        }
      ],
      "source": [
        "def create_model(max_sequence_len, total_words):\n",
        "    input_len = max_sequence_len\n",
        "    model = tf.keras.Sequential()\n",
        "\n",
        "    # Add Input Embedding Layer\n",
        "    model.add(tf.keras.layers.Embedding(total_words, 512, input_length=input_len))\n",
        "\n",
        "\n",
        "    model.add(tf.keras.layers.LSTM(512))\n",
        "    model.add(tf.keras.layers.Dropout(0.2))\n",
        "\n",
        "    # Add Output Layer\n",
        "    model.add(tf.keras.layers.Dense(one_hot_labels.shape[1], activation='softmax'))\n",
        "\n",
        "    model.compile(loss='categorical_crossentropy', optimizer='adam', metrics=[\"accuracy\"])\n",
        "\n",
        "    return model\n",
        "\n",
        "\n",
        "with strategy.scope():\n",
        "    model = create_model(max_sequence_len, total_words)\n",
        "    model.summary()"
      ]
    },
    {
      "cell_type": "code",
      "execution_count": null,
      "metadata": {
        "colab": {
          "base_uri": "https://localhost:8080/"
        },
        "id": "eHwsAosW8kIw",
        "outputId": "b69b2652-c063-4a87-9821-a62ff2dcf7f8"
      },
      "outputs": [
        {
          "output_type": "stream",
          "name": "stdout",
          "text": [
            "Epoch 1/25\n",
            "686/686 [==============================] - 23s 34ms/step - loss: 2.5541 - accuracy: 0.6006\n",
            "Epoch 2/25\n",
            "686/686 [==============================] - 23s 34ms/step - loss: 2.3467 - accuracy: 0.6117\n",
            "Epoch 3/25\n",
            "686/686 [==============================] - 23s 34ms/step - loss: 2.0734 - accuracy: 0.6311\n",
            "Epoch 4/25\n",
            "686/686 [==============================] - 23s 34ms/step - loss: 1.7629 - accuracy: 0.6540\n",
            "Epoch 5/25\n",
            "686/686 [==============================] - 23s 34ms/step - loss: 1.4294 - accuracy: 0.6932\n",
            "Epoch 6/25\n",
            "686/686 [==============================] - 23s 34ms/step - loss: 1.0754 - accuracy: 0.7522\n",
            "Epoch 7/25\n",
            "686/686 [==============================] - 23s 34ms/step - loss: 0.7834 - accuracy: 0.8118\n",
            "Epoch 8/25\n",
            "686/686 [==============================] - 23s 34ms/step - loss: 0.5623 - accuracy: 0.8612\n",
            "Epoch 9/25\n",
            "686/686 [==============================] - 23s 34ms/step - loss: 0.4070 - accuracy: 0.8973\n",
            "Epoch 10/25\n",
            "686/686 [==============================] - 23s 34ms/step - loss: 0.3286 - accuracy: 0.9157\n",
            "Epoch 11/25\n",
            "686/686 [==============================] - 23s 34ms/step - loss: 0.2755 - accuracy: 0.9285\n",
            "Epoch 12/25\n",
            "686/686 [==============================] - 23s 34ms/step - loss: 0.2371 - accuracy: 0.9363\n",
            "Epoch 13/25\n",
            "686/686 [==============================] - 23s 34ms/step - loss: 0.2141 - accuracy: 0.9443\n",
            "Epoch 14/25\n",
            "686/686 [==============================] - 23s 34ms/step - loss: 0.1905 - accuracy: 0.9491\n",
            "Epoch 15/25\n",
            "686/686 [==============================] - 23s 34ms/step - loss: 0.1870 - accuracy: 0.9501\n",
            "Epoch 16/25\n",
            "686/686 [==============================] - 23s 34ms/step - loss: 0.1636 - accuracy: 0.9550\n",
            "Epoch 17/25\n",
            "686/686 [==============================] - 23s 34ms/step - loss: 0.1477 - accuracy: 0.9594\n",
            "Epoch 18/25\n",
            "686/686 [==============================] - 23s 34ms/step - loss: 0.1466 - accuracy: 0.9604\n",
            "Epoch 19/25\n",
            "686/686 [==============================] - 23s 34ms/step - loss: 0.1492 - accuracy: 0.9595\n",
            "Epoch 20/25\n",
            "686/686 [==============================] - 23s 34ms/step - loss: 0.1459 - accuracy: 0.9598\n",
            "Epoch 21/25\n",
            "686/686 [==============================] - 23s 34ms/step - loss: 0.1309 - accuracy: 0.9636\n",
            "Epoch 22/25\n",
            "686/686 [==============================] - 23s 34ms/step - loss: 0.1300 - accuracy: 0.9634\n",
            "Epoch 23/25\n",
            "686/686 [==============================] - 23s 34ms/step - loss: 0.1275 - accuracy: 0.9637\n",
            "Epoch 24/25\n",
            "686/686 [==============================] - 23s 34ms/step - loss: 0.1157 - accuracy: 0.9674\n",
            "Epoch 25/25\n",
            "686/686 [==============================] - 23s 34ms/step - loss: 0.1177 - accuracy: 0.9662\n"
          ]
        }
      ],
      "source": [
        "history = model.fit(predictors, one_hot_labels.todense(), epochs=25, verbose=1)"
      ]
    },
    {
      "cell_type": "code",
      "execution_count": null,
      "metadata": {
        "id": "fa84_TXo8uLK"
      },
      "outputs": [],
      "source": [
        "# Save model\n",
        "model.save_model(\"sreply_006model.h5\")\n",
        "#model.save(\"sreply_lstmdbscan006.hdf5\")"
      ]
    },
    {
      "cell_type": "code",
      "source": [
        "from google.colab import files\n",
        "files.download(\"sreply_lstmdbscan002.h5\")"
      ],
      "metadata": {
        "colab": {
          "base_uri": "https://localhost:8080/",
          "height": 17
        },
        "id": "ELHryL6-nvwc",
        "outputId": "7176ba4f-3c22-4d2a-cc87-b0b4291fd1f5"
      },
      "execution_count": null,
      "outputs": [
        {
          "output_type": "display_data",
          "data": {
            "application/javascript": [
              "\n",
              "    async function download(id, filename, size) {\n",
              "      if (!google.colab.kernel.accessAllowed) {\n",
              "        return;\n",
              "      }\n",
              "      const div = document.createElement('div');\n",
              "      const label = document.createElement('label');\n",
              "      label.textContent = `Downloading \"${filename}\": `;\n",
              "      div.appendChild(label);\n",
              "      const progress = document.createElement('progress');\n",
              "      progress.max = size;\n",
              "      div.appendChild(progress);\n",
              "      document.body.appendChild(div);\n",
              "\n",
              "      const buffers = [];\n",
              "      let downloaded = 0;\n",
              "\n",
              "      const channel = await google.colab.kernel.comms.open(id);\n",
              "      // Send a message to notify the kernel that we're ready.\n",
              "      channel.send({})\n",
              "\n",
              "      for await (const message of channel.messages) {\n",
              "        // Send a message to notify the kernel that we're ready.\n",
              "        channel.send({})\n",
              "        if (message.buffers) {\n",
              "          for (const buffer of message.buffers) {\n",
              "            buffers.push(buffer);\n",
              "            downloaded += buffer.byteLength;\n",
              "            progress.value = downloaded;\n",
              "          }\n",
              "        }\n",
              "      }\n",
              "      const blob = new Blob(buffers, {type: 'application/binary'});\n",
              "      const a = document.createElement('a');\n",
              "      a.href = window.URL.createObjectURL(blob);\n",
              "      a.download = filename;\n",
              "      div.appendChild(a);\n",
              "      a.click();\n",
              "      div.remove();\n",
              "    }\n",
              "  "
            ],
            "text/plain": [
              "<IPython.core.display.Javascript object>"
            ]
          },
          "metadata": {}
        },
        {
          "output_type": "display_data",
          "data": {
            "application/javascript": [
              "download(\"download_86fcad9c-644b-4b4c-a1f2-a5b8f06f8769\", \"sreply_lstmdbscan002.h5\", 113538240)"
            ],
            "text/plain": [
              "<IPython.core.display.Javascript object>"
            ]
          },
          "metadata": {}
        }
      ]
    },
    {
      "cell_type": "code",
      "execution_count": null,
      "metadata": {
        "id": "y94No7Mx-vdV",
        "colab": {
          "base_uri": "https://localhost:8080/",
          "height": 295
        },
        "outputId": "0bc9fd70-b1b2-4cc4-b970-bd945d93c261"
      },
      "outputs": [
        {
          "output_type": "display_data",
          "data": {
            "image/png": "[encoded data removed]",
            "text/plain": [
              "<Figure size 432x288 with 1 Axes>"
            ]
          },
          "metadata": {
            "needs_background": "light"
          }
        }
      ],
      "source": [
        "import matplotlib.pyplot as plt\n",
        "# summarize history for loss\n",
        "plt.plot(history.history['loss'])\n",
        "plt.title('model loss')\n",
        "plt.ylabel('loss')\n",
        "plt.xlabel('epoch')\n",
        "plt.legend(['train'], loc='upper right')\n",
        "plt.show()"
      ]
    },
    {
      "cell_type": "code",
      "execution_count": null,
      "metadata": {
        "id": "PzBUHkr1-zxH",
        "colab": {
          "base_uri": "https://localhost:8080/"
        },
        "outputId": "63ea4884-f777-4e69-e852-0f705d8b99af"
      },
      "outputs": [
        {
          "output_type": "execute_result",
          "data": {
            "text/plain": [
              "array([1271, 1271, 1271, ..., 1271, 1271, 1271])"
            ]
          },
          "metadata": {},
          "execution_count": 55
        }
      ],
      "source": [
        "predict = model.predict(predictors, verbose=0)\n",
        "predictions =np.argmax(predict,axis=1)\n",
        "predictions"
      ]
    },
    {
      "cell_type": "code",
      "execution_count": null,
      "metadata": {
        "id": "AafHN-UH_Jio",
        "colab": {
          "base_uri": "https://localhost:8080/"
        },
        "outputId": "4f72e3bc-8948-475e-9b4f-7a718f03995a"
      },
      "outputs": [
        {
          "output_type": "stream",
          "name": "stdout",
          "text": [
            "[[    0  1982]\n",
            " [    1     2]\n",
            " [    2   460]\n",
            " ...\n",
            " [ 1269     2]\n",
            " [ 1270     2]\n",
            " [ 1271 13071]]\n"
          ]
        }
      ],
      "source": [
        "unique, counts = np.unique(predictions, return_counts=True)\n",
        "print(np.asarray((unique, counts)).T)"
      ]
    },
    {
      "cell_type": "code",
      "source": [
        "model1= tf.keras.models.load_model(\"/content/sreply_lstmhdbscan (1).h5\")#change to test"
      ],
      "metadata": {
        "id": "sHi1021o_Pce"
      },
      "execution_count": null,
      "outputs": []
    },
    {
      "cell_type": "code",
      "execution_count": null,
      "metadata": {
        "id": "A9RfNIlx_QE2"
      },
      "outputs": [],
      "source": [
        "def get_responses(seed_text, n):\n",
        "    print(\"Input -\", seed_text)\n",
        "    print(\"----------------------\")\n",
        "    responses = list()\n",
        "    token_list = tokenizer.texts_to_sequences([seed_text])[0]\n",
        "    token_list = tf.keras.preprocessing.sequence.pad_sequences([token_list], maxlen=max_sequence_len, padding='pre')\n",
        "    with strategy.scope():\n",
        "        predictions = model1.predict(token_list, verbose=10)\n",
        "\n",
        "        predicted_indices = predictions.argsort()[0][::-1][:n]\n",
        "        print(predicted_indices)\n",
        "\n",
        "\n",
        "    for predicted_index in predicted_indices:\n",
        "        score = 0\n",
        "        if predicted_index == len(set(hdbscan_auto.labels_)) - 1: #another\n",
        "            print(\"Predicting outside clusters\")\n",
        "            predicted_index = -1\n",
        "        else:\n",
        "            score = predictions[0][predicted_index]\n",
        "\n",
        "        # randomly pick 1 index\n",
        "        possible_response = np.where(hdbscan_auto.labels_==predicted_index)[0] #and another\n",
        "        response_index = random.sample(possible_response.tolist(), 1)[0]\n",
        "        #print(response_index)\n",
        "        responses.append([output_texts[response_index].replace(\"\\t\", \"\").replace(\"\\n\", \"\"), score])\n",
        "\n",
        "\n",
        "    for i, response in enumerate(responses):\n",
        "        print(\"Response\", (i + 1), \"->\", response[0], \" -> Score :\", response[1])"
      ]
    },
    {
      "cell_type": "code",
      "execution_count": null,
      "metadata": {
        "id": "KjB5x5Wp_q9c",
        "colab": {
          "base_uri": "https://localhost:8080/"
        },
        "outputId": "aa074fd4-18de-4d19-920b-51bf1b8b5e98"
      },
      "outputs": [
        {
          "output_type": "stream",
          "name": "stdout",
          "text": [
            "Input - good bye\n",
            "----------------------\n",
            "[472 475 450 330 362 213]\n",
            "Predicting outside clusters\n",
            "Response 1 -> bye  -> Score : 0.8691348\n",
            "Response 2 -> hello yes i love reading do you enjoy it  -> Score : 0\n",
            "Response 3 -> you too  -> Score : 0.026374219\n",
            "Response 4 -> have a good one  -> Score : 0.01644659\n",
            "Response 5 -> that  -> Score : 0.016087871\n",
            "Response 6 -> same to you  -> Score : 0.010967484\n"
          ]
        }
      ],
      "source": [
        "get_responses(\"good bye\", 6)"
      ]
    },
    {
      "cell_type": "code",
      "source": [
        "get_responses(\"bye\", 10)"
      ],
      "metadata": {
        "id": "O8BxWYUfXcbA",
        "colab": {
          "base_uri": "https://localhost:8080/"
        },
        "outputId": "974475a5-cc16-406f-c72e-6e3bffaeac2e"
      },
      "execution_count": null,
      "outputs": [
        {
          "output_type": "stream",
          "name": "stdout",
          "text": [
            "Input - bye\n",
            "----------------------\n",
            "[472 362 330 475 213 435 445 441 436 396]\n",
            "Predicting outside clusters\n",
            "Response 1 -> bye  -> Score : 0.79210925\n",
            "Response 2 -> bye  -> Score : 0.058386285\n",
            "Response 3 -> have a good one  -> Score : 0.040788736\n",
            "Response 4 -> the birtish voice on siri  -> Score : 0\n",
            "Response 5 -> same to you  -> Score : 0.0096162055\n",
            "Response 6 -> have a good weekend  -> Score : 0.0078116287\n",
            "Response 7 -> have a good evening  -> Score : 0.006580828\n",
            "Response 8 -> good night  -> Score : 0.004865946\n",
            "Response 9 -> see ya  -> Score : 0.004522089\n",
            "Response 10 -> take care  -> Score : 0.0043005277\n"
          ]
        }
      ]
    },
    {
      "cell_type": "code",
      "source": [
        "get_responses(\"thank you\", 6)"
      ],
      "metadata": {
        "colab": {
          "base_uri": "https://localhost:8080/"
        },
        "id": "gxhdhyF-2zMh",
        "outputId": "e327330e-e85d-44d1-ab2c-54bc1abdb012"
      },
      "execution_count": null,
      "outputs": [
        {
          "output_type": "stream",
          "name": "stdout",
          "text": [
            "Input - thank you\n",
            "----------------------\n",
            "[   0  962 1271  980   58  999]\n",
            "Predicting outside clusters\n",
            "Response 1 -> bye  -> Score : 0.4944493\n",
            "Response 2 -> i just call him the trumpster  -> Score : 0.25925457\n",
            "Response 3 -> hip hop music as well  -> Score : 0\n",
            "Response 4 -> have a good night  -> Score : 0.07295147\n",
            "Response 5 -> have a great day  -> Score : 0.054827806\n",
            "Response 6 -> have a good one  -> Score : 0.009643927\n"
          ]
        }
      ]
    },
    {
      "cell_type": "code",
      "source": [
        "get_responses(\"how is it going?\", 6)"
      ],
      "metadata": {
        "colab": {
          "base_uri": "https://localhost:8080/"
        },
        "id": "pd_-GhMG26D3",
        "outputId": "33993f39-2b8b-4921-de70-36a24ea00717"
      },
      "execution_count": null,
      "outputs": [
        {
          "output_type": "stream",
          "name": "stdout",
          "text": [
            "Input - how is it going?\n",
            "----------------------\n",
            "[1271    0  431  968    2  869]\n",
            "Predicting outside clusters\n",
            "Response 1 -> im doing good are you a fan of dogs  -> Score : 0\n",
            "Response 2 -> yeah i know do you like soccer  -> Score : 0.03672769\n",
            "Response 3 -> good how are you  -> Score : 0.021262256\n",
            "Response 4 -> ohh ok  -> Score : 0.008917572\n",
            "Response 5 -> same here  -> Score : 0.0050981697\n",
            "Response 6 -> some stuff do you know what wikileaks is  -> Score : 0.0040161195\n"
          ]
        }
      ]
    },
    {
      "cell_type": "code",
      "source": [
        "get_responses(\"how are you?\", 6)"
      ],
      "metadata": {
        "colab": {
          "base_uri": "https://localhost:8080/"
        },
        "id": "Cp2sHMSr2_-x",
        "outputId": "687ac62a-8c7f-4312-ccb1-c2af2e306bf5"
      },
      "execution_count": null,
      "outputs": [
        {
          "output_type": "stream",
          "name": "stdout",
          "text": [
            "Input - how are you?\n",
            "----------------------\n",
            "[1271    2    0  638  962  101]\n",
            "Predicting outside clusters\n",
            "Response 1 -> yes so sad do you like to travel  -> Score : 0\n",
            "Response 2 -> most certainly  -> Score : 0.108636335\n",
            "Response 3 -> thats pitiful  -> Score : 0.07628296\n",
            "Response 4 -> im good how are you  -> Score : 0.016052432\n",
            "Response 5 -> yes  -> Score : 0.009775669\n",
            "Response 6 -> im great how are you  -> Score : 0.007960686\n"
          ]
        }
      ]
    },
    {
      "cell_type": "code",
      "source": [
        "get_responses(\"Will you do it?\", 6)"
      ],
      "metadata": {
        "colab": {
          "base_uri": "https://localhost:8080/"
        },
        "id": "zzWgPz9c3JPL",
        "outputId": "86f0830e-2207-4304-8bdb-bcd2d6bbb2fe"
      },
      "execution_count": null,
      "outputs": [
        {
          "output_type": "stream",
          "name": "stdout",
          "text": [
            "Input - Will you do it?\n",
            "----------------------\n",
            "[1271    3    0  972    2    5]\n",
            "Predicting outside clusters\n",
            "Response 1 -> oh that is the circus gallop i believe right  -> Score : 0\n",
            "Response 2 -> yes definitely and they also have a mytsa app  -> Score : 0.053073272\n",
            "Response 3 -> you too  -> Score : 0.03921929\n",
            "Response 4 -> i heard it was something like sixteen years worth  -> Score : 0.020353235\n",
            "Response 5 -> take care  -> Score : 0.019421712\n",
            "Response 6 -> i dont know but kudos to the women  -> Score : 0.011776306\n"
          ]
        }
      ]
    },
    {
      "cell_type": "code",
      "source": [],
      "metadata": {
        "id": "nO7Lq3pl3SxH"
      },
      "execution_count": null,
      "outputs": []
    }
  ],
  "metadata": {
    "accelerator": "TPU",
    "colab": {
      "provenance": [],
      "authorship_tag": "ABX9TyNZPYoyHAtLBJeK6eakT4Xl",
      "include_colab_link": true
    },
    "gpuClass": "standard",
    "kernelspec": {
      "display_name": "Python 3",
      "name": "python3"
    },
    "language_info": {
      "name": "python"
    }
  },
  "nbformat": 4,
  "nbformat_minor": 0
}